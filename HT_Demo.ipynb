{
 "cells": [
  {
   "cell_type": "markdown",
   "metadata": {},
   "source": [
    "<font size=\"4\"><b>Problem statement:</b>\n",
    "Exhibit various offshoots of Hypothesis testing using data of your choice. </font>"
   ]
  },
  {
   "cell_type": "markdown",
   "metadata": {},
   "source": [
    "<br/><br/> "
   ]
  },
  {
   "cell_type": "code",
   "execution_count": 1,
   "metadata": {},
   "outputs": [],
   "source": [
    "# Importing libraries.\n",
    "import wget\n",
    "import pandas as pd\n",
    "import numpy as np\n",
    "from numpy.random import randn\n",
    "\n",
    "import scipy\n",
    "from scipy.stats import shapiro\n",
    "from scipy.stats import normaltest\n",
    "from scipy.stats import chi2_contingency\n",
    "from statsmodels.tsa.stattools import adfuller\n",
    "\n",
    "import matplotlib.pyplot as plt \n",
    "%matplotlib inline"
   ]
  },
  {
   "cell_type": "code",
   "execution_count": 2,
   "metadata": {},
   "outputs": [],
   "source": [
    "# Ignoring warnings.\n",
    "import warnings\n",
    "warnings.filterwarnings('ignore')"
   ]
  },
  {
   "cell_type": "markdown",
   "metadata": {},
   "source": [
    "### 1. Normality test\n",
    "* Shapiro-Wilk test\n",
    "* k^2 Normality test"
   ]
  },
  {
   "cell_type": "markdown",
   "metadata": {},
   "source": [
    "#### a. Shapiro-Wilk test"
   ]
  },
  {
   "cell_type": "code",
   "execution_count": 3,
   "metadata": {},
   "outputs": [],
   "source": [
    "file_name  = \"WineQualityRed.csv\"\n",
    "zenodo_url = \"https://zenodo.org/record/4090212/files/\""
   ]
  },
  {
   "cell_type": "code",
   "execution_count": 4,
   "metadata": {},
   "outputs": [
    {
     "data": {
      "text/plain": [
       "'./Assets/WineQualityRed.csv'"
      ]
     },
     "execution_count": 4,
     "metadata": {},
     "output_type": "execute_result"
    }
   ],
   "source": [
    "# Downloading the file HR_Analytics.csv from Zenodo.\n",
    "wget.download(zenodo_url + file_name, \"./Assets/\" + file_name)"
   ]
  },
  {
   "cell_type": "code",
   "execution_count": 5,
   "metadata": {},
   "outputs": [],
   "source": [
    "# Loading the downloaded file into dataframe.\n",
    "df = pd.read_csv(\"./Assets/WineQualityRed.csv\")"
   ]
  },
  {
   "cell_type": "code",
   "execution_count": 6,
   "metadata": {},
   "outputs": [
    {
     "data": {
      "text/html": [
       "<div>\n",
       "<style scoped>\n",
       "    .dataframe tbody tr th:only-of-type {\n",
       "        vertical-align: middle;\n",
       "    }\n",
       "\n",
       "    .dataframe tbody tr th {\n",
       "        vertical-align: top;\n",
       "    }\n",
       "\n",
       "    .dataframe thead th {\n",
       "        text-align: right;\n",
       "    }\n",
       "</style>\n",
       "<table border=\"1\" class=\"dataframe\">\n",
       "  <thead>\n",
       "    <tr style=\"text-align: right;\">\n",
       "      <th></th>\n",
       "      <th>fixed acidity</th>\n",
       "      <th>volatile acidity</th>\n",
       "      <th>citric acid</th>\n",
       "      <th>residual sugar</th>\n",
       "      <th>chlorides</th>\n",
       "      <th>free sulfur dioxide</th>\n",
       "      <th>total sulfur dioxide</th>\n",
       "      <th>density</th>\n",
       "      <th>pH</th>\n",
       "      <th>sulphates</th>\n",
       "      <th>alcohol</th>\n",
       "      <th>quality</th>\n",
       "    </tr>\n",
       "  </thead>\n",
       "  <tbody>\n",
       "    <tr>\n",
       "      <th>0</th>\n",
       "      <td>7.4</td>\n",
       "      <td>0.70</td>\n",
       "      <td>0.00</td>\n",
       "      <td>1.9</td>\n",
       "      <td>0.076</td>\n",
       "      <td>11.0</td>\n",
       "      <td>34.0</td>\n",
       "      <td>0.9978</td>\n",
       "      <td>3.51</td>\n",
       "      <td>0.56</td>\n",
       "      <td>9.4</td>\n",
       "      <td>5</td>\n",
       "    </tr>\n",
       "    <tr>\n",
       "      <th>1</th>\n",
       "      <td>7.8</td>\n",
       "      <td>0.88</td>\n",
       "      <td>0.00</td>\n",
       "      <td>2.6</td>\n",
       "      <td>0.098</td>\n",
       "      <td>25.0</td>\n",
       "      <td>67.0</td>\n",
       "      <td>0.9968</td>\n",
       "      <td>3.20</td>\n",
       "      <td>0.68</td>\n",
       "      <td>9.8</td>\n",
       "      <td>5</td>\n",
       "    </tr>\n",
       "    <tr>\n",
       "      <th>2</th>\n",
       "      <td>7.8</td>\n",
       "      <td>0.76</td>\n",
       "      <td>0.04</td>\n",
       "      <td>2.3</td>\n",
       "      <td>0.092</td>\n",
       "      <td>15.0</td>\n",
       "      <td>54.0</td>\n",
       "      <td>0.9970</td>\n",
       "      <td>3.26</td>\n",
       "      <td>0.65</td>\n",
       "      <td>9.8</td>\n",
       "      <td>5</td>\n",
       "    </tr>\n",
       "  </tbody>\n",
       "</table>\n",
       "</div>"
      ],
      "text/plain": [
       "   fixed acidity  volatile acidity  citric acid  residual sugar  chlorides  \\\n",
       "0            7.4              0.70         0.00             1.9      0.076   \n",
       "1            7.8              0.88         0.00             2.6      0.098   \n",
       "2            7.8              0.76         0.04             2.3      0.092   \n",
       "\n",
       "   free sulfur dioxide  total sulfur dioxide  density    pH  sulphates  \\\n",
       "0                 11.0                  34.0   0.9978  3.51       0.56   \n",
       "1                 25.0                  67.0   0.9968  3.20       0.68   \n",
       "2                 15.0                  54.0   0.9970  3.26       0.65   \n",
       "\n",
       "   alcohol  quality  \n",
       "0      9.4        5  \n",
       "1      9.8        5  \n",
       "2      9.8        5  "
      ]
     },
     "execution_count": 6,
     "metadata": {},
     "output_type": "execute_result"
    }
   ],
   "source": [
    "# A bird's eye view on the dataframe.\n",
    "df.head(3)"
   ]
  },
  {
   "cell_type": "code",
   "execution_count": 3,
   "metadata": {},
   "outputs": [],
   "source": [
    "df= pd.read_csv(\"Assets\\WineQualityRed.csv\")"
   ]
  },
  {
   "cell_type": "code",
   "execution_count": 4,
   "metadata": {},
   "outputs": [
    {
     "data": {
      "text/html": [
       "<div>\n",
       "<style scoped>\n",
       "    .dataframe tbody tr th:only-of-type {\n",
       "        vertical-align: middle;\n",
       "    }\n",
       "\n",
       "    .dataframe tbody tr th {\n",
       "        vertical-align: top;\n",
       "    }\n",
       "\n",
       "    .dataframe thead th {\n",
       "        text-align: right;\n",
       "    }\n",
       "</style>\n",
       "<table border=\"1\" class=\"dataframe\">\n",
       "  <thead>\n",
       "    <tr style=\"text-align: right;\">\n",
       "      <th></th>\n",
       "      <th>fixed acidity</th>\n",
       "      <th>volatile acidity</th>\n",
       "      <th>citric acid</th>\n",
       "      <th>residual sugar</th>\n",
       "      <th>chlorides</th>\n",
       "      <th>free sulfur dioxide</th>\n",
       "      <th>total sulfur dioxide</th>\n",
       "      <th>density</th>\n",
       "      <th>pH</th>\n",
       "      <th>sulphates</th>\n",
       "      <th>alcohol</th>\n",
       "      <th>quality</th>\n",
       "    </tr>\n",
       "  </thead>\n",
       "  <tbody>\n",
       "    <tr>\n",
       "      <th>0</th>\n",
       "      <td>7.4</td>\n",
       "      <td>0.70</td>\n",
       "      <td>0.00</td>\n",
       "      <td>1.9</td>\n",
       "      <td>0.076</td>\n",
       "      <td>11.0</td>\n",
       "      <td>34.0</td>\n",
       "      <td>0.9978</td>\n",
       "      <td>3.51</td>\n",
       "      <td>0.56</td>\n",
       "      <td>9.4</td>\n",
       "      <td>5</td>\n",
       "    </tr>\n",
       "    <tr>\n",
       "      <th>1</th>\n",
       "      <td>7.8</td>\n",
       "      <td>0.88</td>\n",
       "      <td>0.00</td>\n",
       "      <td>2.6</td>\n",
       "      <td>0.098</td>\n",
       "      <td>25.0</td>\n",
       "      <td>67.0</td>\n",
       "      <td>0.9968</td>\n",
       "      <td>3.20</td>\n",
       "      <td>0.68</td>\n",
       "      <td>9.8</td>\n",
       "      <td>5</td>\n",
       "    </tr>\n",
       "    <tr>\n",
       "      <th>2</th>\n",
       "      <td>7.8</td>\n",
       "      <td>0.76</td>\n",
       "      <td>0.04</td>\n",
       "      <td>2.3</td>\n",
       "      <td>0.092</td>\n",
       "      <td>15.0</td>\n",
       "      <td>54.0</td>\n",
       "      <td>0.9970</td>\n",
       "      <td>3.26</td>\n",
       "      <td>0.65</td>\n",
       "      <td>9.8</td>\n",
       "      <td>5</td>\n",
       "    </tr>\n",
       "  </tbody>\n",
       "</table>\n",
       "</div>"
      ],
      "text/plain": [
       "   fixed acidity  volatile acidity  citric acid  residual sugar  chlorides  \\\n",
       "0            7.4              0.70         0.00             1.9      0.076   \n",
       "1            7.8              0.88         0.00             2.6      0.098   \n",
       "2            7.8              0.76         0.04             2.3      0.092   \n",
       "\n",
       "   free sulfur dioxide  total sulfur dioxide  density    pH  sulphates  \\\n",
       "0                 11.0                  34.0   0.9978  3.51       0.56   \n",
       "1                 25.0                  67.0   0.9968  3.20       0.68   \n",
       "2                 15.0                  54.0   0.9970  3.26       0.65   \n",
       "\n",
       "   alcohol  quality  \n",
       "0      9.4        5  \n",
       "1      9.8        5  \n",
       "2      9.8        5  "
      ]
     },
     "execution_count": 4,
     "metadata": {},
     "output_type": "execute_result"
    }
   ],
   "source": [
    "df.head(3)"
   ]
  },
  {
   "cell_type": "code",
   "execution_count": 5,
   "metadata": {},
   "outputs": [
    {
     "data": {
      "text/plain": [
       "(array([ 73., 405., 423., 475., 148.,  51.,  18.,   3.,   2.,   1.]),\n",
       " array([0.12 , 0.266, 0.412, 0.558, 0.704, 0.85 , 0.996, 1.142, 1.288,\n",
       "        1.434, 1.58 ]),\n",
       " <a list of 10 Patch objects>)"
      ]
     },
     "execution_count": 5,
     "metadata": {},
     "output_type": "execute_result"
    },
    {
     "data": {
      "image/png": "[encoded data removed]",
      "text/plain": [
       "<Figure size 1008x432 with 1 Axes>"
      ]
     },
     "metadata": {
      "needs_background": "light"
     },
     "output_type": "display_data"
    }
   ],
   "source": [
    "plt.figure(figsize=(14,6))\n",
    "plt.hist(df['volatile acidity'])"
   ]
  },
  {
   "cell_type": "code",
   "execution_count": 6,
   "metadata": {},
   "outputs": [
    {
     "name": "stdout",
     "output_type": "stream",
     "text": [
      "stat=0.97, p=0.000000000000000268680677283857\n",
      "Not a normal distribution\n"
     ]
    }
   ],
   "source": [
    "DataToTest = df['volatile acidity']\n",
    "stat, p = shapiro(DataToTest)\n",
    "print('stat=%.2f, p=%.30f' % (stat, p))\n",
    "if p > 0.05:\n",
    "    print('Normal distribution')\n",
    "else:\n",
    "    print('Not a normal distribution')"
   ]
  },
  {
   "cell_type": "code",
   "execution_count": 7,
   "metadata": {},
   "outputs": [
    {
     "data": {
      "text/plain": [
       "array([-0.80099777,  0.73036659, -0.788125  , -1.13062848,  2.11452137,\n",
       "        0.34292148,  1.21865707, -0.94797202, -0.36364074,  2.38732642,\n",
       "       -1.69528691,  1.19125626,  0.15625384, -0.9828371 , -0.72154134,\n",
       "        1.9159529 , -1.47957831, -1.69278524, -2.42203223, -1.47473743,\n",
       "       -2.3572515 ,  1.08496996, -0.67677203, -0.00466212, -1.25505872,\n",
       "        0.42664992, -1.20406163, -1.01179387, -0.77105269, -2.07523911,\n",
       "       -1.6097938 ,  0.39971783, -0.83324186,  0.68249382,  1.08834368,\n",
       "        2.98751366, -0.73137643,  1.76836544, -0.06564168,  1.40605842,\n",
       "       -0.70479484,  1.86249253, -1.00675669, -0.47275951, -0.6817772 ,\n",
       "        1.58721055, -0.62754866, -0.18166749,  1.51970141, -0.93905621,\n",
       "       -1.2070133 ,  0.29098272, -1.28829485, -0.90639091, -1.62795656,\n",
       "        0.15250253,  0.11537291, -0.44331099, -0.54641362,  0.2986052 ,\n",
       "       -0.33459277,  0.55154813, -1.3480189 , -0.3613294 ,  0.36921336,\n",
       "        0.25811034,  1.43654409,  0.19637549, -0.45046073,  1.03586108,\n",
       "        0.57821954,  0.13428821, -0.87704268, -0.50308904,  0.70598346,\n",
       "       -0.35874971, -0.35353718,  1.09073783, -0.36197703, -0.13425247,\n",
       "       -0.18669484, -1.71276157,  0.71990278, -0.5527442 , -1.3149688 ,\n",
       "        0.94997137,  0.31887926,  0.31865294, -0.0032321 ,  0.47662518,\n",
       "       -0.18283699, -0.67903718,  0.00940188,  1.26245197, -1.43364243,\n",
       "       -0.16750914, -0.99773454, -0.67781886, -0.64273171, -0.70006638])"
      ]
     },
     "execution_count": 7,
     "metadata": {},
     "output_type": "execute_result"
    }
   ],
   "source": [
    "#Lets genrate normally distributed data from Python\n",
    "from numpy.random import randn\n",
    "DataToTest = randn(100)\n",
    "DataToTest"
   ]
  },
  {
   "cell_type": "code",
   "execution_count": 8,
   "metadata": {},
   "outputs": [
    {
     "name": "stdout",
     "output_type": "stream",
     "text": [
      "stat=0.98, p=0.216388255357742309570312500000\n",
      "Normal distribution\n"
     ]
    }
   ],
   "source": [
    "stat, p = shapiro(DataToTest)\n",
    "print('stat=%.2f, p=%.30f' % (stat, p))\n",
    "if p > 0.05:\n",
    "    print('Normal distribution')\n",
    "else:\n",
    "    print('Not a normal distribution')"
   ]
  },
  {
   "cell_type": "markdown",
   "metadata": {},
   "source": [
    "#### b. K^2 Normality test"
   ]
  },
  {
   "cell_type": "code",
   "execution_count": 10,
   "metadata": {},
   "outputs": [
    {
     "name": "stdout",
     "output_type": "stream",
     "text": [
      "stat=143.4193435598, p=0.0000000000\n",
      "Not Normllay distributed\n"
     ]
    }
   ],
   "source": [
    "DataToTest = df['volatile acidity']\n",
    "stat, p = normaltest(DataToTest)\n",
    "print('stat=%.10f, p=%.10f' % (stat, p))\n",
    "if p > 0.05:\n",
    "    print('Normal')\n",
    "else:\n",
    "    print('Not Normllay distributed')"
   ]
  },
  {
   "cell_type": "markdown",
   "metadata": {},
   "source": [
    "### 2. Correlation Test \n",
    "* For continuous variables - Pearson and Spearman’s Rank Correlation\n",
    "* For categorical variables - Chi square test"
   ]
  },
  {
   "cell_type": "markdown",
   "metadata": {},
   "source": [
    "#### a. Continuous Variables"
   ]
  },
  {
   "cell_type": "code",
   "execution_count": 12,
   "metadata": {},
   "outputs": [
    {
     "data": {
      "text/plain": [
       "[<matplotlib.lines.Line2D at 0x17576109ca0>]"
      ]
     },
     "execution_count": 12,
     "metadata": {},
     "output_type": "execute_result"
    },
    {
     "data": {
      "image/png": "[encoded data removed]",
      "text/plain": [
       "<Figure size 432x288 with 1 Axes>"
      ]
     },
     "metadata": {
      "needs_background": "light"
     },
     "output_type": "display_data"
    }
   ],
   "source": [
    "FirstSample = df[1:30]['total sulfur dioxide']\n",
    "SecondSample = df[1:30]['free sulfur dioxide']\n",
    "plt.plot(FirstSample,SecondSample)"
   ]
  },
  {
   "cell_type": "code",
   "execution_count": 13,
   "metadata": {},
   "outputs": [
    {
     "name": "stdout",
     "output_type": "stream",
     "text": [
      "stat=0.805, p=0.000000\n",
      "dependent samples\n"
     ]
    }
   ],
   "source": [
    "# Spearman Rank Correlation\n",
    "from scipy.stats import spearmanr\n",
    "stat, p = spearmanr(FirstSample, SecondSample)\n",
    "print('stat=%.3f, p=%5f' % (stat, p))\n",
    "if p > 0.05:\n",
    "    print('independent samples')\n",
    "else:\n",
    "    print('dependent samples')"
   ]
  },
  {
   "cell_type": "code",
   "execution_count": 14,
   "metadata": {},
   "outputs": [
    {
     "name": "stdout",
     "output_type": "stream",
     "text": [
      "stat=0.855, p=0.000000\n",
      "dependent samples\n"
     ]
    }
   ],
   "source": [
    "# Pearson correlation\n",
    "from scipy.stats import pearsonr\n",
    "stat, p = pearsonr(FirstSample, SecondSample)\n",
    "print('stat=%.3f, p=%5f' % (stat, p))\n",
    "if p > 0.05:\n",
    "    print('independent samples')\n",
    "else:\n",
    "    print('dependent samples')"
   ]
  },
  {
   "cell_type": "code",
   "execution_count": 15,
   "metadata": {},
   "outputs": [
    {
     "data": {
      "text/html": [
       "<div>\n",
       "<style scoped>\n",
       "    .dataframe tbody tr th:only-of-type {\n",
       "        vertical-align: middle;\n",
       "    }\n",
       "\n",
       "    .dataframe tbody tr th {\n",
       "        vertical-align: top;\n",
       "    }\n",
       "\n",
       "    .dataframe thead th {\n",
       "        text-align: right;\n",
       "    }\n",
       "</style>\n",
       "<table border=\"1\" class=\"dataframe\">\n",
       "  <thead>\n",
       "    <tr style=\"text-align: right;\">\n",
       "      <th></th>\n",
       "      <th>fixed acidity</th>\n",
       "      <th>volatile acidity</th>\n",
       "      <th>citric acid</th>\n",
       "      <th>residual sugar</th>\n",
       "      <th>chlorides</th>\n",
       "      <th>free sulfur dioxide</th>\n",
       "      <th>total sulfur dioxide</th>\n",
       "      <th>density</th>\n",
       "      <th>pH</th>\n",
       "      <th>sulphates</th>\n",
       "      <th>alcohol</th>\n",
       "      <th>quality</th>\n",
       "    </tr>\n",
       "  </thead>\n",
       "  <tbody>\n",
       "    <tr>\n",
       "      <th>fixed acidity</th>\n",
       "      <td>1.000000</td>\n",
       "      <td>-0.287133</td>\n",
       "      <td>0.518645</td>\n",
       "      <td>0.101947</td>\n",
       "      <td>0.321192</td>\n",
       "      <td>0.300050</td>\n",
       "      <td>0.408255</td>\n",
       "      <td>0.325321</td>\n",
       "      <td>-0.681308</td>\n",
       "      <td>0.415988</td>\n",
       "      <td>-0.111514</td>\n",
       "      <td>0.222573</td>\n",
       "    </tr>\n",
       "    <tr>\n",
       "      <th>volatile acidity</th>\n",
       "      <td>-0.287133</td>\n",
       "      <td>1.000000</td>\n",
       "      <td>-0.808188</td>\n",
       "      <td>0.151948</td>\n",
       "      <td>-0.005305</td>\n",
       "      <td>-0.162360</td>\n",
       "      <td>-0.160005</td>\n",
       "      <td>0.072174</td>\n",
       "      <td>0.198740</td>\n",
       "      <td>-0.146946</td>\n",
       "      <td>-0.052345</td>\n",
       "      <td>-0.325622</td>\n",
       "    </tr>\n",
       "    <tr>\n",
       "      <th>citric acid</th>\n",
       "      <td>0.518645</td>\n",
       "      <td>-0.808188</td>\n",
       "      <td>1.000000</td>\n",
       "      <td>0.052783</td>\n",
       "      <td>0.192278</td>\n",
       "      <td>0.365744</td>\n",
       "      <td>0.412825</td>\n",
       "      <td>0.320100</td>\n",
       "      <td>-0.448153</td>\n",
       "      <td>0.531622</td>\n",
       "      <td>0.007761</td>\n",
       "      <td>0.163375</td>\n",
       "    </tr>\n",
       "    <tr>\n",
       "      <th>residual sugar</th>\n",
       "      <td>0.101947</td>\n",
       "      <td>0.151948</td>\n",
       "      <td>0.052783</td>\n",
       "      <td>1.000000</td>\n",
       "      <td>-0.026722</td>\n",
       "      <td>0.297213</td>\n",
       "      <td>0.443779</td>\n",
       "      <td>0.646597</td>\n",
       "      <td>0.020406</td>\n",
       "      <td>0.159213</td>\n",
       "      <td>0.113853</td>\n",
       "      <td>-0.175338</td>\n",
       "    </tr>\n",
       "    <tr>\n",
       "      <th>chlorides</th>\n",
       "      <td>0.321192</td>\n",
       "      <td>-0.005305</td>\n",
       "      <td>0.192278</td>\n",
       "      <td>-0.026722</td>\n",
       "      <td>1.000000</td>\n",
       "      <td>0.167987</td>\n",
       "      <td>0.206837</td>\n",
       "      <td>0.060167</td>\n",
       "      <td>-0.586062</td>\n",
       "      <td>0.620711</td>\n",
       "      <td>-0.442924</td>\n",
       "      <td>-0.222146</td>\n",
       "    </tr>\n",
       "    <tr>\n",
       "      <th>free sulfur dioxide</th>\n",
       "      <td>0.300050</td>\n",
       "      <td>-0.162360</td>\n",
       "      <td>0.365744</td>\n",
       "      <td>0.297213</td>\n",
       "      <td>0.167987</td>\n",
       "      <td>1.000000</td>\n",
       "      <td>0.805073</td>\n",
       "      <td>0.392890</td>\n",
       "      <td>-0.102043</td>\n",
       "      <td>0.265340</td>\n",
       "      <td>0.199205</td>\n",
       "      <td>0.233841</td>\n",
       "    </tr>\n",
       "    <tr>\n",
       "      <th>total sulfur dioxide</th>\n",
       "      <td>0.408255</td>\n",
       "      <td>-0.160005</td>\n",
       "      <td>0.412825</td>\n",
       "      <td>0.443779</td>\n",
       "      <td>0.206837</td>\n",
       "      <td>0.805073</td>\n",
       "      <td>1.000000</td>\n",
       "      <td>0.473338</td>\n",
       "      <td>-0.258340</td>\n",
       "      <td>0.252005</td>\n",
       "      <td>0.122998</td>\n",
       "      <td>-0.101018</td>\n",
       "    </tr>\n",
       "    <tr>\n",
       "      <th>density</th>\n",
       "      <td>0.325321</td>\n",
       "      <td>0.072174</td>\n",
       "      <td>0.320100</td>\n",
       "      <td>0.646597</td>\n",
       "      <td>0.060167</td>\n",
       "      <td>0.392890</td>\n",
       "      <td>0.473338</td>\n",
       "      <td>1.000000</td>\n",
       "      <td>-0.079360</td>\n",
       "      <td>0.392884</td>\n",
       "      <td>-0.132642</td>\n",
       "      <td>-0.182903</td>\n",
       "    </tr>\n",
       "    <tr>\n",
       "      <th>pH</th>\n",
       "      <td>-0.681308</td>\n",
       "      <td>0.198740</td>\n",
       "      <td>-0.448153</td>\n",
       "      <td>0.020406</td>\n",
       "      <td>-0.586062</td>\n",
       "      <td>-0.102043</td>\n",
       "      <td>-0.258340</td>\n",
       "      <td>-0.079360</td>\n",
       "      <td>1.000000</td>\n",
       "      <td>-0.579390</td>\n",
       "      <td>0.287642</td>\n",
       "      <td>0.048379</td>\n",
       "    </tr>\n",
       "    <tr>\n",
       "      <th>sulphates</th>\n",
       "      <td>0.415988</td>\n",
       "      <td>-0.146946</td>\n",
       "      <td>0.531622</td>\n",
       "      <td>0.159213</td>\n",
       "      <td>0.620711</td>\n",
       "      <td>0.265340</td>\n",
       "      <td>0.252005</td>\n",
       "      <td>0.392884</td>\n",
       "      <td>-0.579390</td>\n",
       "      <td>1.000000</td>\n",
       "      <td>-0.045026</td>\n",
       "      <td>-0.025975</td>\n",
       "    </tr>\n",
       "    <tr>\n",
       "      <th>alcohol</th>\n",
       "      <td>-0.111514</td>\n",
       "      <td>-0.052345</td>\n",
       "      <td>0.007761</td>\n",
       "      <td>0.113853</td>\n",
       "      <td>-0.442924</td>\n",
       "      <td>0.199205</td>\n",
       "      <td>0.122998</td>\n",
       "      <td>-0.132642</td>\n",
       "      <td>0.287642</td>\n",
       "      <td>-0.045026</td>\n",
       "      <td>1.000000</td>\n",
       "      <td>0.387465</td>\n",
       "    </tr>\n",
       "    <tr>\n",
       "      <th>quality</th>\n",
       "      <td>0.222573</td>\n",
       "      <td>-0.325622</td>\n",
       "      <td>0.163375</td>\n",
       "      <td>-0.175338</td>\n",
       "      <td>-0.222146</td>\n",
       "      <td>0.233841</td>\n",
       "      <td>-0.101018</td>\n",
       "      <td>-0.182903</td>\n",
       "      <td>0.048379</td>\n",
       "      <td>-0.025975</td>\n",
       "      <td>0.387465</td>\n",
       "      <td>1.000000</td>\n",
       "    </tr>\n",
       "  </tbody>\n",
       "</table>\n",
       "</div>"
      ],
      "text/plain": [
       "                      fixed acidity  volatile acidity  citric acid  \\\n",
       "fixed acidity              1.000000         -0.287133     0.518645   \n",
       "volatile acidity          -0.287133          1.000000    -0.808188   \n",
       "citric acid                0.518645         -0.808188     1.000000   \n",
       "residual sugar             0.101947          0.151948     0.052783   \n",
       "chlorides                  0.321192         -0.005305     0.192278   \n",
       "free sulfur dioxide        0.300050         -0.162360     0.365744   \n",
       "total sulfur dioxide       0.408255         -0.160005     0.412825   \n",
       "density                    0.325321          0.072174     0.320100   \n",
       "pH                        -0.681308          0.198740    -0.448153   \n",
       "sulphates                  0.415988         -0.146946     0.531622   \n",
       "alcohol                   -0.111514         -0.052345     0.007761   \n",
       "quality                    0.222573         -0.325622     0.163375   \n",
       "\n",
       "                      residual sugar  chlorides  free sulfur dioxide  \\\n",
       "fixed acidity               0.101947   0.321192             0.300050   \n",
       "volatile acidity            0.151948  -0.005305            -0.162360   \n",
       "citric acid                 0.052783   0.192278             0.365744   \n",
       "residual sugar              1.000000  -0.026722             0.297213   \n",
       "chlorides                  -0.026722   1.000000             0.167987   \n",
       "free sulfur dioxide         0.297213   0.167987             1.000000   \n",
       "total sulfur dioxide        0.443779   0.206837             0.805073   \n",
       "density                     0.646597   0.060167             0.392890   \n",
       "pH                          0.020406  -0.586062            -0.102043   \n",
       "sulphates                   0.159213   0.620711             0.265340   \n",
       "alcohol                     0.113853  -0.442924             0.199205   \n",
       "quality                    -0.175338  -0.222146             0.233841   \n",
       "\n",
       "                      total sulfur dioxide   density        pH  sulphates  \\\n",
       "fixed acidity                     0.408255  0.325321 -0.681308   0.415988   \n",
       "volatile acidity                 -0.160005  0.072174  0.198740  -0.146946   \n",
       "citric acid                       0.412825  0.320100 -0.448153   0.531622   \n",
       "residual sugar                    0.443779  0.646597  0.020406   0.159213   \n",
       "chlorides                         0.206837  0.060167 -0.586062   0.620711   \n",
       "free sulfur dioxide               0.805073  0.392890 -0.102043   0.265340   \n",
       "total sulfur dioxide              1.000000  0.473338 -0.258340   0.252005   \n",
       "density                           0.473338  1.000000 -0.079360   0.392884   \n",
       "pH                               -0.258340 -0.079360  1.000000  -0.579390   \n",
       "sulphates                         0.252005  0.392884 -0.579390   1.000000   \n",
       "alcohol                           0.122998 -0.132642  0.287642  -0.045026   \n",
       "quality                          -0.101018 -0.182903  0.048379  -0.025975   \n",
       "\n",
       "                       alcohol   quality  \n",
       "fixed acidity        -0.111514  0.222573  \n",
       "volatile acidity     -0.052345 -0.325622  \n",
       "citric acid           0.007761  0.163375  \n",
       "residual sugar        0.113853 -0.175338  \n",
       "chlorides            -0.442924 -0.222146  \n",
       "free sulfur dioxide   0.199205  0.233841  \n",
       "total sulfur dioxide  0.122998 -0.101018  \n",
       "density              -0.132642 -0.182903  \n",
       "pH                    0.287642  0.048379  \n",
       "sulphates            -0.045026 -0.025975  \n",
       "alcohol               1.000000  0.387465  \n",
       "quality               0.387465  1.000000  "
      ]
     },
     "execution_count": 15,
     "metadata": {},
     "output_type": "execute_result"
    }
   ],
   "source": [
    "df[1:30].corr(method=\"spearman\")"
   ]
  },
  {
   "cell_type": "markdown",
   "metadata": {},
   "source": [
    "#### b. Categorical variables"
   ]
  },
  {
   "cell_type": "code",
   "execution_count": 7,
   "metadata": {},
   "outputs": [],
   "source": [
    "file_name  = \"Dummy.xlsx\"\n",
    "zenodo_url = \"https://zenodo.org/record/4090212/files/\""
   ]
  },
  {
   "cell_type": "code",
   "execution_count": 8,
   "metadata": {},
   "outputs": [
    {
     "data": {
      "text/plain": [
       "'./Assets/Dummy.xlsx'"
      ]
     },
     "execution_count": 8,
     "metadata": {},
     "output_type": "execute_result"
    }
   ],
   "source": [
    "# Downloading the file HR_Analytics.csv from Zenodo.\n",
    "wget.download(zenodo_url + file_name, \"./Assets/\" + file_name)"
   ]
  },
  {
   "cell_type": "code",
   "execution_count": 10,
   "metadata": {},
   "outputs": [],
   "source": [
    "# Loading the downloaded file into dataframe.\n",
    "df = pd.read_excel(\"./Assets/Dummy.xlsx\")"
   ]
  },
  {
   "cell_type": "code",
   "execution_count": 11,
   "metadata": {},
   "outputs": [
    {
     "data": {
      "text/html": [
       "<div>\n",
       "<style scoped>\n",
       "    .dataframe tbody tr th:only-of-type {\n",
       "        vertical-align: middle;\n",
       "    }\n",
       "\n",
       "    .dataframe tbody tr th {\n",
       "        vertical-align: top;\n",
       "    }\n",
       "\n",
       "    .dataframe thead th {\n",
       "        text-align: right;\n",
       "    }\n",
       "</style>\n",
       "<table border=\"1\" class=\"dataframe\">\n",
       "  <thead>\n",
       "    <tr style=\"text-align: right;\">\n",
       "      <th></th>\n",
       "      <th>Grouping1</th>\n",
       "      <th>Grouping2</th>\n",
       "    </tr>\n",
       "  </thead>\n",
       "  <tbody>\n",
       "    <tr>\n",
       "      <th>0</th>\n",
       "      <td>1</td>\n",
       "      <td>1</td>\n",
       "    </tr>\n",
       "    <tr>\n",
       "      <th>1</th>\n",
       "      <td>1</td>\n",
       "      <td>1</td>\n",
       "    </tr>\n",
       "    <tr>\n",
       "      <th>2</th>\n",
       "      <td>1</td>\n",
       "      <td>1</td>\n",
       "    </tr>\n",
       "  </tbody>\n",
       "</table>\n",
       "</div>"
      ],
      "text/plain": [
       "   Grouping1  Grouping2\n",
       "0          1          1\n",
       "1          1          1\n",
       "2          1          1"
      ]
     },
     "execution_count": 11,
     "metadata": {},
     "output_type": "execute_result"
    }
   ],
   "source": [
    "# A bird's eye view on the dataframe.\n",
    "df.head(3)"
   ]
  },
  {
   "cell_type": "code",
   "execution_count": 8,
   "metadata": {},
   "outputs": [],
   "source": [
    "head_to_head = pd.crosstab(df['Grouping1'], df['Grouping2'],margins = False)"
   ]
  },
  {
   "cell_type": "code",
   "execution_count": 9,
   "metadata": {},
   "outputs": [
    {
     "data": {
      "text/html": [
       "<div>\n",
       "<style scoped>\n",
       "    .dataframe tbody tr th:only-of-type {\n",
       "        vertical-align: middle;\n",
       "    }\n",
       "\n",
       "    .dataframe tbody tr th {\n",
       "        vertical-align: top;\n",
       "    }\n",
       "\n",
       "    .dataframe thead th {\n",
       "        text-align: right;\n",
       "    }\n",
       "</style>\n",
       "<table border=\"1\" class=\"dataframe\">\n",
       "  <thead>\n",
       "    <tr style=\"text-align: right;\">\n",
       "      <th>Grouping2</th>\n",
       "      <th>1</th>\n",
       "      <th>2</th>\n",
       "      <th>3</th>\n",
       "    </tr>\n",
       "    <tr>\n",
       "      <th>Grouping1</th>\n",
       "      <th></th>\n",
       "      <th></th>\n",
       "      <th></th>\n",
       "    </tr>\n",
       "  </thead>\n",
       "  <tbody>\n",
       "    <tr>\n",
       "      <th>1</th>\n",
       "      <td>3</td>\n",
       "      <td>3</td>\n",
       "      <td>3</td>\n",
       "    </tr>\n",
       "    <tr>\n",
       "      <th>2</th>\n",
       "      <td>3</td>\n",
       "      <td>3</td>\n",
       "      <td>3</td>\n",
       "    </tr>\n",
       "    <tr>\n",
       "      <th>3</th>\n",
       "      <td>3</td>\n",
       "      <td>3</td>\n",
       "      <td>3</td>\n",
       "    </tr>\n",
       "  </tbody>\n",
       "</table>\n",
       "</div>"
      ],
      "text/plain": [
       "Grouping2  1  2  3\n",
       "Grouping1         \n",
       "1          3  3  3\n",
       "2          3  3  3\n",
       "3          3  3  3"
      ]
     },
     "execution_count": 9,
     "metadata": {},
     "output_type": "execute_result"
    }
   ],
   "source": [
    "head_to_head"
   ]
  },
  {
   "cell_type": "code",
   "execution_count": 12,
   "metadata": {},
   "outputs": [
    {
     "name": "stdout",
     "output_type": "stream",
     "text": [
      "stat= 0.000, p= 1.000\n",
      "independent categories\n"
     ]
    }
   ],
   "source": [
    "stat, p, dof, expected = chi2_contingency(head_to_head)\n",
    "print('stat= %.3f, p= %.3f' % (stat, p))\n",
    "if p > 0.05:\n",
    "    print('independent categories')\n",
    "else:\n",
    "    print('dependent categories')"
   ]
  },
  {
   "cell_type": "code",
   "execution_count": 13,
   "metadata": {},
   "outputs": [],
   "source": [
    "# Observe the numbers carefully.\n",
    "head_to_head = [[25,125],[1200,240]]"
   ]
  },
  {
   "cell_type": "code",
   "execution_count": 15,
   "metadata": {},
   "outputs": [
    {
     "name": "stdout",
     "output_type": "stream",
     "text": [
      "stat=337.622, p=0.000\n",
      "dependent categories\n"
     ]
    }
   ],
   "source": [
    "stat, p, dof, expected = chi2_contingency(head_to_head)\n",
    "print('stat=%.3f, p=%.3f' % (stat, p))\n",
    "if p > 0.05:\n",
    "    print('independent categories')\n",
    "else:\n",
    "    print('dependent categories')"
   ]
  },
  {
   "cell_type": "markdown",
   "metadata": {},
   "source": [
    "### 3. Parametric test\n",
    "* T-test\n",
    "* ANOVA test"
   ]
  },
  {
   "cell_type": "markdown",
   "metadata": {},
   "source": [
    "#### a. T-test\n",
    "* Single sample\n",
    "* Independent samples\n",
    "* Pair samples"
   ]
  },
  {
   "cell_type": "code",
   "execution_count": 8,
   "metadata": {},
   "outputs": [],
   "source": [
    "kohli= [23,113,31,151,73,35,26,22,236,91]\n",
    "smith= [46,203,62,40,38,70,125,44,87,38]"
   ]
  },
  {
   "cell_type": "code",
   "execution_count": 9,
   "metadata": {},
   "outputs": [
    {
     "name": "stdout",
     "output_type": "stream",
     "text": [
      "kohli mean score: 80.1\n",
      "smith mean score: 75.3\n"
     ]
    }
   ],
   "source": [
    "# Checking the mean of both samples.\n",
    "print('kohli mean score:', np.mean(kohli))\n",
    "print('smith mean score:', np.mean(smith))"
   ]
  },
  {
   "cell_type": "code",
   "execution_count": 21,
   "metadata": {},
   "outputs": [
    {
     "data": {
      "text/plain": [
       "Ttest_1sampResult(statistic=2.7000549807630025, pvalue=0.02439150040697149)"
      ]
     },
     "execution_count": 21,
     "metadata": {},
     "output_type": "execute_result"
    }
   ],
   "source": [
    "# One Sample T-test\n",
    "scipy.stats.ttest_1samp(kohli,20)"
   ]
  },
  {
   "cell_type": "code",
   "execution_count": 22,
   "metadata": {},
   "outputs": [
    {
     "data": {
      "text/plain": [
       "Ttest_indResult(statistic=0.1726353154049999, pvalue=0.8648644021702281)"
      ]
     },
     "execution_count": 22,
     "metadata": {},
     "output_type": "execute_result"
    }
   ],
   "source": [
    "# Independent Samples T-test\n",
    "scipy.stats.ttest_ind(kohli,smith)"
   ]
  },
  {
   "cell_type": "code",
   "execution_count": 10,
   "metadata": {},
   "outputs": [
    {
     "data": {
      "text/plain": [
       "Ttest_relResult(statistic=1.1576362479826194, pvalue=0.2768104505234216)"
      ]
     },
     "execution_count": 10,
     "metadata": {},
     "output_type": "execute_result"
    }
   ],
   "source": [
    "# Paired samples T-test\n",
    "kohli_away=[46,4,62,40,105,70,52,44,27,38]\n",
    "scipy.stats.ttest_rel(kohli,kohli_away)"
   ]
  },
  {
   "cell_type": "markdown",
   "metadata": {},
   "source": [
    "#### b. ANOVA test"
   ]
  },
  {
   "cell_type": "markdown",
   "metadata": {},
   "source": [
    "#### Note: ANOVA test assumes that distributions are normal and identical and have same variances."
   ]
  },
  {
   "cell_type": "code",
   "execution_count": 11,
   "metadata": {},
   "outputs": [
    {
     "name": "stdout",
     "output_type": "stream",
     "text": [
      "stat=1.009, p=0.378\n",
      "Same distribution of scores\n"
     ]
    }
   ],
   "source": [
    "stat, p = scipy.stats.f_oneway(kohli,smith, kohli_away)\n",
    "print('stat=%.3f, p=%.3f' % (stat, p))\n",
    "if p > 0.05:\n",
    "    print('Same distribution of scores')\n",
    "else:\n",
    "    print('Different distributions of scores')"
   ]
  },
  {
   "cell_type": "markdown",
   "metadata": {},
   "source": [
    "### 4. Non Parametric test : Mann-Whitney U Test"
   ]
  },
  {
   "cell_type": "markdown",
   "metadata": {},
   "source": [
    "#### Note: Mann-Whitney U test assumes that distributions are identical and observations can be ranked."
   ]
  },
  {
   "cell_type": "code",
   "execution_count": 1,
   "metadata": {},
   "outputs": [],
   "source": [
    "class_1_score = [91,90,81,80,76]\n",
    "class_2_score = [88,86,85,84,83]"
   ]
  },
  {
   "cell_type": "code",
   "execution_count": 4,
   "metadata": {
    "scrolled": true
   },
   "outputs": [
    {
     "name": "stdout",
     "output_type": "stream",
     "text": [
      "stat=10.000, p=0.338\n",
      "Same distribution\n"
     ]
    }
   ],
   "source": [
    "stat, p = scipy.stats.mannwhitneyu(class_1_score, class_2_score)\n",
    "print('stat=%.3f, p=%.3f' % (stat, p))\n",
    "if p > 0.05:\n",
    "    print('Same distribution')\n",
    "else:\n",
    "    print('Different distributions')"
   ]
  },
  {
   "cell_type": "markdown",
   "metadata": {},
   "source": [
    "### 5. Stationarity test : Augmented Dickey-Fuller test"
   ]
  },
  {
   "cell_type": "markdown",
   "metadata": {},
   "source": [
    "**Note 1: Augmented Dickey-Fuller Test assumes that the given Series is non stationary (Null Hypothesis).**<br /> \n",
    "**Note 2: Series with constant mean and variance is a stationary series.**"
   ]
  },
  {
   "cell_type": "code",
   "execution_count": 6,
   "metadata": {},
   "outputs": [],
   "source": [
    "stock_price_data = [121,131,142,121,131,142,121,131,142]\n",
    "stat, p, lags, obs, crit, t = adfuller(stock_price_data)"
   ]
  },
  {
   "cell_type": "code",
   "execution_count": 7,
   "metadata": {
    "scrolled": false
   },
   "outputs": [
    {
     "name": "stdout",
     "output_type": "stream",
     "text": [
      "stat=-2571852228715.173, p=0.000\n",
      "Series is stationary\n"
     ]
    }
   ],
   "source": [
    "print('stat=%.3f, p=%.3f' % (stat, p))\n",
    "if p > 0.05:\n",
    "    print('Series is not Stationary')\n",
    "else:\n",
    "    print('Series is stationary')"
   ]
  },
  {
   "cell_type": "markdown",
   "metadata": {},
   "source": [
    "<br/><br/> "
   ]
  },
  {
   "cell_type": "markdown",
   "metadata": {},
   "source": [
    "<font size=\"4\"> <b>Final thoughts:</b> It is important to note that correlation doesn't always imply causation. It is improper to associate a successful Hypothesis test with a Probability and a Type-I error rate. Because unexpected effects such as Placebo effect might have sneaked into our sample. Moreover, Statistics should not lead to an accept-reject conclusion or decision, but to an estimated value with an interval estimate; this data-analysis philosophy is broadly referred to as Estimation-Statistics.</font>"
   ]
  }
 ],
 "metadata": {
  "kernelspec": {
   "display_name": "Python 3",
   "language": "python",
   "name": "python3"
  },
  "language_info": {
   "codemirror_mode": {
    "name": "ipython",
    "version": 3
   },
   "file_extension": ".py",
   "mimetype": "text/x-python",
   "name": "python",
   "nbconvert_exporter": "python",
   "pygments_lexer": "ipython3",
   "version": "3.8.3"
  }
 },
 "nbformat": 4,
 "nbformat_minor": 4
}
